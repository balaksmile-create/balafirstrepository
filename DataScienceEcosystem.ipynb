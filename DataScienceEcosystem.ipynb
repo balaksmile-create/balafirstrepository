{
 "cells": [
  {
   "cell_type": "markdown",
   "id": "4c27a55f-c5f5-46b6-aa05-709ceb26632c",
   "metadata": {
    "panel-layout": {
     "height": 51.13750076293945,
     "visible": true,
     "width": 100
    }
   },
   "source": [
    "# Data Science Tools and Ecosystem"
   ]
  },
  {
   "cell_type": "markdown",
   "id": "7581b98e-0ff2-49b0-ae89-c2c1de0bcbcc",
   "metadata": {},
   "source": [
    "In this notebook, Data Science Tools and Ecosystem are summarized."
   ]
  },
  {
   "cell_type": "markdown",
   "id": "09d9d30b-bf32-4561-8c46-6bb3c41b7831",
   "metadata": {},
   "source": [
    "Some of the popular languages that Data Scientists use are:\n",
    "\n",
    "\n",
    "1. Python\n",
    "2. Java\n",
    "3. Sql"
   ]
  },
  {
   "cell_type": "markdown",
   "id": "e8e39301-5b89-4125-a2b9-2b0f23cca2b4",
   "metadata": {},
   "source": [
    "**Objectives**\n",
    "- Add Comments to code cells\n",
    "- Create Markdown cells\n",
    "- Add ordered and unordered lists to markdown cells\n"
   ]
  },
  {
   "cell_type": "markdown",
   "id": "00d9dea0-0255-46b9-b621-ed5e38255325",
   "metadata": {},
   "source": [
    "Some of the commonly used libraries used by Data Scientists include:\n",
    "1. Numpy\n",
    "2. Pandas\n",
    "3. Metplotlib"
   ]
  },
  {
   "cell_type": "markdown",
   "id": "367e5721-a8f1-4f47-b0b4-a6b91a873e5f",
   "metadata": {},
   "source": [
    "\n",
    "| Data Science Tools |\n",
    "| --------- |\n",
    "| Jupyter Notebook    |\n",
    "| Anaconda       |\n",
    "| Metplotlib   |\n",
    "\n"
   ]
  },
  {
   "cell_type": "markdown",
   "id": "085c5b7a-7416-4d81-9bb3-83ef3562931f",
   "metadata": {},
   "source": [
    "### Below are a few examples of evaluating arithmetic expressions in Python"
   ]
  },
  {
   "cell_type": "code",
   "execution_count": 6,
   "id": "b935f718-b905-4e60-b86c-4f1456e6b2ac",
   "metadata": {},
   "outputs": [
    {
     "data": {
      "text/plain": [
       "17"
      ]
     },
     "execution_count": 6,
     "metadata": {},
     "output_type": "execute_result"
    }
   ],
   "source": [
    " (3*4)+5"
   ]
  },
  {
   "cell_type": "code",
   "execution_count": 2,
   "id": "1fab9735-c46f-4601-a00e-c2f0786005e8",
   "metadata": {},
   "outputs": [
    {
     "data": {
      "text/plain": [
       "3"
      ]
     },
     "execution_count": 2,
     "metadata": {},
     "output_type": "execute_result"
    }
   ],
   "source": [
    "# Converting number of hours to minutes\n",
    "200//60"
   ]
  },
  {
   "cell_type": "markdown",
   "id": "d8f208f5-0fe6-4ab1-9725-229984bb725e",
   "metadata": {},
   "source": [
    "## Author\n",
    "Balamurugan"
   ]
  },
  {
   "cell_type": "code",
   "execution_count": null,
   "id": "aa112e5c-444b-4f8d-aa95-96923dae360f",
   "metadata": {},
   "outputs": [],
   "source": []
  }
 ],
 "metadata": {
  "kernelspec": {
   "display_name": "Python [conda env:base] *",
   "language": "python",
   "name": "conda-base-py"
  },
  "language_info": {
   "codemirror_mode": {
    "name": "ipython",
    "version": 3
   },
   "file_extension": ".py",
   "mimetype": "text/x-python",
   "name": "python",
   "nbconvert_exporter": "python",
   "pygments_lexer": "ipython3",
   "version": "3.13.5"
  },
  "panel-cell-order": [
   "4c27a55f-c5f5-46b6-aa05-709ceb26632c"
  ]
 },
 "nbformat": 4,
 "nbformat_minor": 5
}
